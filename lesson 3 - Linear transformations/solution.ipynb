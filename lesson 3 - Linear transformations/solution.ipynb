{
 "cells": [
  {
   "cell_type": "markdown",
   "metadata": {},
   "source": [
    "__1.__ Найти собственные векторы и собственные значения для линейного оператора, заданного матрицей\n",
    "\n",
    "$A=\\begin{pmatrix}\n",
    "-1 & -6\\\\ \n",
    "2 & 6\n",
    "\\end{pmatrix}.$"
   ]
  },
  {
   "cell_type": "markdown",
   "metadata": {},
   "source": [
    "$\n",
    "det(A - \\lambda I) = \n",
    "\\begin{vmatrix}\n",
    "-1-\\lambda & -6\\\\\n",
    "2 & 6-\\lambda\n",
    "\\end{vmatrix} =\\\\\n",
    "\\lambda^2 - (a_{11} + a_{22})\\lambda + (a_{11}a_{22} - a_{12}a_{21})=\\\\\n",
    "\\lambda^2 - 5\\lambda +6\n",
    "$"
   ]
  },
  {
   "cell_type": "code",
   "execution_count": 1,
   "metadata": {},
   "outputs": [],
   "source": [
    "def roots(a,b,c):\n",
    "    '''looking for discriminant'''\n",
    "    D = b**2 - 4*a*c\n",
    "    \n",
    "    if D > 0:\n",
    "        x1 = (- b + D**(1/2))/(2*a)\n",
    "        x2 = (- b - D**(1/2))/(2*a)\n",
    "        \n",
    "        return x1, x2\n",
    "    \n",
    "    elif D == 0:\n",
    "        x = -b/(2*a)\n",
    "        \n",
    "        return x\n",
    "    \n",
    "    else:\n",
    "        return None"
   ]
  },
  {
   "cell_type": "markdown",
   "metadata": {},
   "source": [
    "### Собственные значения:"
   ]
  },
  {
   "cell_type": "code",
   "execution_count": 2,
   "metadata": {},
   "outputs": [
    {
     "data": {
      "text/plain": [
       "(3.0, 2.0)"
      ]
     },
     "execution_count": 2,
     "metadata": {},
     "output_type": "execute_result"
    }
   ],
   "source": [
    "a = 1\n",
    "b = -5\n",
    "c = 6\n",
    "\n",
    "x1, x2 = roots(a,b,c)\n",
    "x1, x2"
   ]
  },
  {
   "cell_type": "markdown",
   "metadata": {},
   "source": [
    "### Собственные вектора:"
   ]
  },
  {
   "cell_type": "markdown",
   "metadata": {},
   "source": [
    "$\n",
    "\\begin{cases}\n",
    "-x_1 - 6x_2 = 3x_1 \\\\\n",
    "2x_1 + 6x_2 = 3x_2\n",
    "\\end{cases}\n",
    "\\begin{cases}\n",
    "-4x_1 - 6x_2 = 0 \\\\\n",
    "2x_1 + 3x_2 = 0\n",
    "\\end{cases}\n",
    "\\begin{cases}\n",
    "x_1 = -1,5x_2\\\\\n",
    "x_1 = -1,5x_2\n",
    "\\end{cases}\n",
    "$"
   ]
  },
  {
   "cell_type": "markdown",
   "metadata": {},
   "source": [
    "$\n",
    "\\begin{cases}\n",
    "-x_1 - 6x_2 = 2x_1 \\\\\n",
    "2x_1 + 6x_2 = 2x_2\n",
    "\\end{cases}\n",
    "\\begin{cases}\n",
    "-4x_1 - 6x_2 = 0 \\\\\n",
    "2x_1 + 3x_2 = 0\n",
    "\\end{cases}\n",
    "\\begin{cases}\n",
    "x_1 = -2x_2\\\\\n",
    "x_1 = -2x_2\n",
    "\\end{cases}\n",
    "$"
   ]
  },
  {
   "cell_type": "markdown",
   "metadata": {},
   "source": [
    "__2.__ Дан оператор поворота на 180 градусов, задаваемый матрицей \n",
    "\n",
    "$A=\\begin{pmatrix}\n",
    "-1 & 0\\\\ \n",
    "0 & -1\n",
    "\\end{pmatrix}$\n",
    "\n",
    "Показать, что __любой__ вектор является для него собственным."
   ]
  },
  {
   "cell_type": "markdown",
   "metadata": {},
   "source": [
    "Возбмем вектор из предыдущей задачи $x=(3,2)$ <br>\n",
    "$\n",
    "\\begin{pmatrix}\n",
    "-1 & 0\\\\\n",
    "0 & -1\n",
    "\\end{pmatrix}\\cdot\n",
    "\\begin{pmatrix}\n",
    "3\\\\\n",
    "2\n",
    "\\end{pmatrix}=\\lambda\n",
    "\\begin{pmatrix}\n",
    "3\\\\\n",
    "2\n",
    "\\end{pmatrix}\n",
    "$"
   ]
  },
  {
   "cell_type": "markdown",
   "metadata": {},
   "source": [
    "$\n",
    "\\begin{cases}\n",
    "-3 = \\lambda3\\\\\n",
    "-2 = \\lambda2\n",
    "\\end{cases}\\Rightarrow\n",
    "\\lambda = -1\n",
    "$"
   ]
  },
  {
   "cell_type": "markdown",
   "metadata": {},
   "source": [
    "У нас поличилось то же значение $\\lambda$, что и в матрице, потому что какое бы мы значение не взяли за $x$ оно всегда будет делиться на себя и будет получаться $\\lambda = -1$"
   ]
  },
  {
   "cell_type": "markdown",
   "metadata": {},
   "source": [
    "\n",
    "__3.__ Пусть линейный оператор задан матрицей\n",
    "\n",
    "$A=\\begin{pmatrix}\n",
    "1 & 1\\\\ \n",
    "-1 & 3\n",
    "\\end{pmatrix}.$\n",
    "\n",
    "Установить, является ли вектор $x=(1,1)$ собственным вектором этого линейного оператора."
   ]
  },
  {
   "cell_type": "markdown",
   "metadata": {},
   "source": [
    "$\n",
    "\\begin{pmatrix}\n",
    "1 & 1\\\\\n",
    "-1 & 3\n",
    "\\end{pmatrix}\\cdot\n",
    "\\begin{pmatrix}\n",
    "1\\\\\n",
    "1\n",
    "\\end{pmatrix}=\\lambda\n",
    "\\begin{pmatrix}\n",
    "1\\\\\n",
    "1\n",
    "\\end{pmatrix}\n",
    "$"
   ]
  },
  {
   "cell_type": "markdown",
   "metadata": {},
   "source": [
    "$\n",
    "\\begin{cases}\n",
    "1 + 1 = \\lambda\\\\\n",
    "-1 + 3 = \\lambda\n",
    "\\end{cases}\\Rightarrow\\lambda = 2\n",
    "$"
   ]
  },
  {
   "cell_type": "markdown",
   "metadata": {},
   "source": [
    "Вектор $x = (1,1)$ не является собственным"
   ]
  },
  {
   "cell_type": "markdown",
   "metadata": {},
   "source": [
    "__4.__ Пусть линейный оператор задан матрицей\n",
    "\n",
    "$A=\\begin{pmatrix}\n",
    "0 & 3 & 0\\\\ \n",
    "3 & 0 & 0\\\\\n",
    "0 & 0 & 3\n",
    "\\end{pmatrix}.$\n",
    "\n",
    "Установить, является ли вектор $x=(3, -3, -4)$ собственным вектором этого линейного оператора."
   ]
  },
  {
   "cell_type": "markdown",
   "metadata": {},
   "source": [
    "$\n",
    "\\begin{pmatrix}\n",
    "0 & 3 & 0\\\\\n",
    "3 & 0 & 0\\\\\n",
    "0 & 0 & 3\n",
    "\\end{pmatrix}\\cdot\n",
    "\\begin{pmatrix}\n",
    "3\\\\\n",
    "-3\\\\\n",
    "-4\n",
    "\\end{pmatrix}=\\lambda\n",
    "\\begin{pmatrix}\n",
    "3\\\\\n",
    "-3\\\\\n",
    "-4\n",
    "\\end{pmatrix}\n",
    "$"
   ]
  },
  {
   "cell_type": "markdown",
   "metadata": {},
   "source": [
    "$\n",
    "\\begin{cases}\n",
    "9 = 3\\lambda\\\\\n",
    "-9 = -3\\lambda\\\\\n",
    "-12 = -4\\lambda\\\\\n",
    "\\end{cases}\\Rightarrow\\lambda = 3\n",
    "$"
   ]
  },
  {
   "cell_type": "markdown",
   "metadata": {},
   "source": [
    "Вектор $x = (3, -3, -4)$ является собственным"
   ]
  }
 ],
 "metadata": {
  "kernelspec": {
   "display_name": "Python 3",
   "language": "python",
   "name": "python3"
  },
  "language_info": {
   "codemirror_mode": {
    "name": "ipython",
    "version": 3
   },
   "file_extension": ".py",
   "mimetype": "text/x-python",
   "name": "python",
   "nbconvert_exporter": "python",
   "pygments_lexer": "ipython3",
   "version": "3.7.4"
  }
 },
 "nbformat": 4,
 "nbformat_minor": 2
}
