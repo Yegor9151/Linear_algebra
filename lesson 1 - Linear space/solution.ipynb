{
 "cells": [
  {
   "cell_type": "markdown",
   "metadata": {},
   "source": [
    "### Первая методичка"
   ]
  },
  {
   "cell_type": "markdown",
   "metadata": {},
   "source": [
    "__1.__ Исследовать на линейную зависимость:\n",
    "$$f_{1}(x)=e^{x}, f_{2}(x)=1, f_{3}(x)=x+1, f_{4}(x)=x-e^{x}.$$"
   ]
  },
  {
   "cell_type": "markdown",
   "metadata": {},
   "source": [
    "\n",
    "$x-e^x = -1\\cdot(e^x + 1) + x + 1 = -e^x -1 +x +1 = -e^x + x$\n",
    "\n",
    "$f_4(x) = -1\\cdot(f_1(x) + f_2(x)) + f_3(3)\\ -$ вектора линейно зависимы"
   ]
  },
  {
   "cell_type": "markdown",
   "metadata": {},
   "source": [
    "__2.__ Исследовать на линейную зависимость:\n",
    "$$f_{1}(x)=2, f_{2}(x)=x, f_{3}(x)=x^{2}, f_{4}(x)=(x+1)^{2}.$$"
   ]
  },
  {
   "cell_type": "markdown",
   "metadata": {},
   "source": [
    "Здесь не могу найти вариант, как доказать линейную комбинацию векторов, могу предположить, что эти вектора не зависимы."
   ]
  },
  {
   "cell_type": "markdown",
   "metadata": {},
   "source": [
    "__3.__ Найти координаты вектора $x = (2, 3, 5)\\in \\mathbb{R}^{3}$ в базисе $b_{1}=(0, 0, 10)$, $b_{2}=(2, 0, 0)$, $b_{3}=(0, 1, 0)$."
   ]
  },
  {
   "cell_type": "markdown",
   "metadata": {},
   "source": [
    "$x=(2,3,5) = (0,0,20)+(6,0,0)+(0,5,0) = 6e_1 + 5e_2 + 20e_3$\n",
    "\n",
    "Координаты $x = (6,5,20)$"
   ]
  },
  {
   "cell_type": "markdown",
   "metadata": {},
   "source": [
    "__4.__ Найти координаты вектора $3x^{2}-2x+2\\in\\mathbb{R}^{3}[x]$:\n",
    "\n",
    "   а) в базисе $1$, $x$, $x^{2}$;"
   ]
  },
  {
   "cell_type": "markdown",
   "metadata": {},
   "source": [
    "$\n",
    "3\\cdot x^2 - 2\\cdot x + 0*1\\\\\n",
    "(0, -2, 3)\n",
    "$"
   ]
  },
  {
   "cell_type": "markdown",
   "metadata": {},
   "source": [
    "б) в базисе $x^{2}$, $x-1$, $1$."
   ]
  },
  {
   "cell_type": "markdown",
   "metadata": {},
   "source": [
    "$\n",
    "3\\cdot x^2 - 2*(x-1) + 0\\cdot 1\\\\\n",
    "(3, -2, 0)\n",
    "$"
   ]
  },
  {
   "cell_type": "markdown",
   "metadata": {},
   "source": [
    "__5.__ Установить, является ли линейным подпространством:\n",
    "\n",
    "а) совокупность всех векторов трехмерного пространства, у которых по крайней мере одна из первых двух координат равна нулю;\n",
    "\n",
    "Является так с ними можно провести операции сложения и умножение векторов, даже если в итоге получится координата $(0,0)$ - это будет нулевым вектором. \n",
    "    \n",
    "б) все векторы, являющиеся линейными комбинациями данных векторов $\\{u_{1}, u_{2}, ..., u_{n}\\}$.\n",
    "\n",
    "Является если для данной системы векторов существует хотя бы 1 отличный от 0."
   ]
  },
  {
   "cell_type": "markdown",
   "metadata": {},
   "source": [
    "### Вторая методичка"
   ]
  },
  {
   "cell_type": "markdown",
   "metadata": {},
   "source": [
    "__1.__ Найти скалярное произведение векторов $x, y \\in \\mathbb{R}$:<br>\n",
    "а) $x=(0,-3, 6),~y=(-4, 7, 9);$<br>\n",
    "б) $x=(7, -4, 0, 1),~y=(-3, 1, 11, 2).$"
   ]
  },
  {
   "cell_type": "code",
   "execution_count": 1,
   "metadata": {},
   "outputs": [],
   "source": [
    "import numpy as np"
   ]
  },
  {
   "cell_type": "code",
   "execution_count": 2,
   "metadata": {},
   "outputs": [],
   "source": [
    "x1 = [0,-3,6]\n",
    "y1 = [-4,7,9]\n",
    "\n",
    "x2 = [7,-4,0,1]\n",
    "y2 = [-3,1,11,2]"
   ]
  },
  {
   "cell_type": "code",
   "execution_count": 3,
   "metadata": {},
   "outputs": [
    {
     "data": {
      "text/plain": [
       "(33, -23)"
      ]
     },
     "execution_count": 3,
     "metadata": {},
     "output_type": "execute_result"
    }
   ],
   "source": [
    "a = np.dot(x1,y1)\n",
    "b = np.dot(x2,y2)\n",
    "a, b"
   ]
  },
  {
   "cell_type": "markdown",
   "metadata": {},
   "source": [
    "__2.__ Найти нормы векторов $(4, 2, 4)$ и $(12, 3, 4)$ и угол между ними."
   ]
  },
  {
   "cell_type": "code",
   "execution_count": 4,
   "metadata": {},
   "outputs": [],
   "source": [
    "from numpy.linalg import norm"
   ]
  },
  {
   "cell_type": "code",
   "execution_count": 5,
   "metadata": {},
   "outputs": [],
   "source": [
    "A = [4,2,4]\n",
    "B = [12,3,4]"
   ]
  },
  {
   "cell_type": "code",
   "execution_count": 6,
   "metadata": {},
   "outputs": [],
   "source": [
    "am = sum([(a**2)**(1/2) for a in A])\n",
    "bm = sum([(b**2)**(1/2) for b in B])\n",
    "\n",
    "ae = sum([a**2 for a in A])**(1/2)\n",
    "be = sum([b**2 for b in B])**(1/2)"
   ]
  },
  {
   "cell_type": "code",
   "execution_count": 7,
   "metadata": {},
   "outputs": [
    {
     "data": {
      "text/plain": [
       "(10.0, 19.0)"
      ]
     },
     "execution_count": 7,
     "metadata": {},
     "output_type": "execute_result"
    }
   ],
   "source": [
    "am, bm # манхенненская норма"
   ]
  },
  {
   "cell_type": "code",
   "execution_count": 8,
   "metadata": {},
   "outputs": [
    {
     "data": {
      "text/plain": [
       "(6.0, 13.0)"
      ]
     },
     "execution_count": 8,
     "metadata": {},
     "output_type": "execute_result"
    }
   ],
   "source": [
    "ae, be # эвклидова норма"
   ]
  },
  {
   "cell_type": "code",
   "execution_count": 9,
   "metadata": {},
   "outputs": [
    {
     "data": {
      "text/plain": [
       "0.8974358974358975"
      ]
     },
     "execution_count": 9,
     "metadata": {},
     "output_type": "execute_result"
    }
   ],
   "source": [
    "cosfi = np.dot(A,B) / (norm(A) * norm(B))\n",
    "cosfi # угол между векторами"
   ]
  },
  {
   "cell_type": "markdown",
   "metadata": {},
   "source": [
    "__3.__ Будет ли линейное пространство евклидовым, если за скалярное произведение принять:<br>\n",
    "а) произведение длин векторов;<br>\n",
    "Да, так как это первая аксиома $(x,y) = (y,x)$<br>\n",
    "б) утроенное обычное скалярное произведение векторов?<br>\n",
    "Да, так как это вторрая аксиома $(\\lambda x,y) = \\lambda(x,y)$"
   ]
  },
  {
   "cell_type": "markdown",
   "metadata": {},
   "source": [
    "__4.__ Какие из нижеперечисленных векторов образуют ортонормированный базис в линейном пространстве $\\mathbb{R}^{3}$:<br>\n",
    "а) $(1,0,0),(0,0,1);$ <br>\n",
    "б) $(1/\\sqrt{2},-1/\\sqrt{2},0),(1/\\sqrt{2},1/\\sqrt{2},0), (0,0,1);$<br>\n",
    "в) $(1/2, -1/2, 0), (0, 1/2, 1/2), (0,0,1);$<br>\n",
    "г) $(1,0,0),(0,1,0),(0,0,1)?$ "
   ]
  },
  {
   "cell_type": "code",
   "execution_count": 10,
   "metadata": {},
   "outputs": [
    {
     "data": {
      "text/plain": [
       "(array([1, 0, 0]), array([0., 0., 1.]))"
      ]
     },
     "execution_count": 10,
     "metadata": {},
     "output_type": "execute_result"
    }
   ],
   "source": [
    "# проверяем векторы а\n",
    "a = np.array([(1,0,0),(0,0,1)])\n",
    "\n",
    "e_1 = a[0]\n",
    "a_2 = a[1]\n",
    "a_1 = -np.dot(e_1, a_2)/np.dot(e_1,e_1)\n",
    "e_2 = a_2 + np.dot(a_1, e_1)\n",
    "\n",
    "e_1, e_2"
   ]
  },
  {
   "cell_type": "code",
   "execution_count": 11,
   "metadata": {},
   "outputs": [
    {
     "data": {
      "text/plain": [
       "(0.0, 1.0, 1.0)"
      ]
     },
     "execution_count": 11,
     "metadata": {},
     "output_type": "execute_result"
    }
   ],
   "source": [
    "np.dot(e_1,e_2), norm(e_1), norm(e_2)"
   ]
  },
  {
   "cell_type": "markdown",
   "metadata": {},
   "source": [
    "##### Произведение векторов $а=0$, нормы $e_1$ и $e_2 = 1$ - векаторы $а$ образуют ортогональный базис"
   ]
  },
  {
   "cell_type": "code",
   "execution_count": 12,
   "metadata": {},
   "outputs": [],
   "source": [
    "def ort(a):\n",
    "    '''функция для поиска эллементов базиса'''\n",
    "    \n",
    "    e_1 = a[0]\n",
    "    a_2 = a[1]\n",
    "    a_3 = a[2]\n",
    "\n",
    "    a_1 = -np.dot(e_1, a_2)/np.dot(e_1,e_1)\n",
    "    e_2 = a_2 + np.dot(a_1, e_1)\n",
    "\n",
    "    a_1 = -np.dot(e_1, a_3)/np.dot(e_1,e_1)\n",
    "    a_2 = -np.dot(e_2, a_3)/np.dot(e_2,e_2)\n",
    "    e_3 = a_3 + np.dot(a_1, e_1) + np.dot(a_2, e_2)\n",
    "\n",
    "    return e_1, e_2, e_3"
   ]
  },
  {
   "cell_type": "code",
   "execution_count": 13,
   "metadata": {},
   "outputs": [],
   "source": [
    "def check(e):\n",
    "    '''функция для проверки ортогональности базиса'''\n",
    "    \n",
    "    print(f'скаляры:\\n'\n",
    "          f'{np.dot(e[0], e[1])}\\n'\n",
    "          f'{np.dot(e[2], e[1])}\\n'\n",
    "          f'нормы:\\n'\n",
    "          f'{norm(e[0]), norm(e[1]), norm(e[2])}')"
   ]
  },
  {
   "cell_type": "code",
   "execution_count": 14,
   "metadata": {},
   "outputs": [
    {
     "data": {
      "text/plain": [
       "(array([ 0.70710678, -0.70710678,  0.        ]),\n",
       " array([0.70710678, 0.70710678, 0.        ]),\n",
       " array([0., 0., 1.]))"
      ]
     },
     "execution_count": 14,
     "metadata": {},
     "output_type": "execute_result"
    }
   ],
   "source": [
    "b = np.array([\n",
    "    (1/2**(1/2), -1/2**(1/2), 0),\n",
    "    (1/2**(1/2), 1/2**(1/2), 0),\n",
    "    (0,0,1)\n",
    "])\n",
    "\n",
    "e = ort(b)\n",
    "e"
   ]
  },
  {
   "cell_type": "code",
   "execution_count": 15,
   "metadata": {},
   "outputs": [
    {
     "name": "stdout",
     "output_type": "stream",
     "text": [
      "скаляры:\n",
      "0.0\n",
      "0.0\n",
      "нормы:\n",
      "(0.9999999999999999, 0.9999999999999999, 1.0)\n"
     ]
    }
   ],
   "source": [
    "check(e)"
   ]
  },
  {
   "cell_type": "markdown",
   "metadata": {},
   "source": [
    "##### Произведение векторов $б=0$, нормы $e_1, e_2$ и $e_3 = 1$ - вектор $б$ образуют ортогональный базис"
   ]
  },
  {
   "cell_type": "code",
   "execution_count": 16,
   "metadata": {},
   "outputs": [
    {
     "data": {
      "text/plain": [
       "(array([ 0.5, -0.5,  0. ]),\n",
       " array([0.25, 0.25, 0.5 ]),\n",
       " array([-0.33333333, -0.33333333,  0.33333333]))"
      ]
     },
     "execution_count": 16,
     "metadata": {},
     "output_type": "execute_result"
    }
   ],
   "source": [
    "c = np.array([\n",
    "    (1/2, -1/2, 0),\n",
    "    (0, 1/2, 1/2),\n",
    "    (0,0,1)\n",
    "])\n",
    "\n",
    "e = ort(c)\n",
    "e"
   ]
  },
  {
   "cell_type": "code",
   "execution_count": 17,
   "metadata": {},
   "outputs": [
    {
     "name": "stdout",
     "output_type": "stream",
     "text": [
      "скаляры:\n",
      "0.0\n",
      "2.7755575615628914e-17\n",
      "нормы:\n",
      "(0.7071067811865476, 0.6123724356957945, 0.5773502691896258)\n"
     ]
    }
   ],
   "source": [
    "check(e)"
   ]
  },
  {
   "cell_type": "markdown",
   "metadata": {},
   "source": [
    "##### Только 1е произведение верторов $= 0$, и нормы $\\neq 1$ - векторы $в$ не образуеют ортогональный базис "
   ]
  },
  {
   "cell_type": "code",
   "execution_count": 18,
   "metadata": {},
   "outputs": [
    {
     "data": {
      "text/plain": [
       "(array([1, 0, 0]), array([0., 1., 0.]), array([0., 0., 1.]))"
      ]
     },
     "execution_count": 18,
     "metadata": {},
     "output_type": "execute_result"
    }
   ],
   "source": [
    "d = np.array([\n",
    "    (1,0,0),\n",
    "    (0,1,0),\n",
    "    (0,0,1)\n",
    "])\n",
    "\n",
    "e = ort(d)\n",
    "e"
   ]
  },
  {
   "cell_type": "code",
   "execution_count": 19,
   "metadata": {},
   "outputs": [
    {
     "name": "stdout",
     "output_type": "stream",
     "text": [
      "скаляры:\n",
      "0.0\n",
      "0.0\n",
      "нормы:\n",
      "(1.0, 1.0, 1.0)\n"
     ]
    }
   ],
   "source": [
    "check(e)"
   ]
  },
  {
   "cell_type": "markdown",
   "metadata": {},
   "source": [
    "##### Произведение векторов $г=0$, нормы $e_1, e_2$ и $e_3 = 1$ - векторы $г$ образуют ортогональный базис"
   ]
  },
  {
   "cell_type": "code",
   "execution_count": null,
   "metadata": {},
   "outputs": [],
   "source": []
  }
 ],
 "metadata": {
  "kernelspec": {
   "display_name": "Python 3",
   "language": "python",
   "name": "python3"
  },
  "language_info": {
   "codemirror_mode": {
    "name": "ipython",
    "version": 3
   },
   "file_extension": ".py",
   "mimetype": "text/x-python",
   "name": "python",
   "nbconvert_exporter": "python",
   "pygments_lexer": "ipython3",
   "version": "3.7.4"
  }
 },
 "nbformat": 4,
 "nbformat_minor": 2
}
